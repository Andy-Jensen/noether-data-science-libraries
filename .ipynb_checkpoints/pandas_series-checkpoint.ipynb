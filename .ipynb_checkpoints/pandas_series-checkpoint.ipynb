{
 "cells": [
  {
   "cell_type": "code",
   "execution_count": 82,
   "id": "962c047a",
   "metadata": {},
   "outputs": [],
   "source": [
    "import numpy as np\n",
    "import pandas as pd\n",
    "\n",
    "fruits = [\"kiwi\", \"mango\", \"strawberry\", \"pineapple\", \"gala apple\", \"honeycrisp apple\", \"tomato\", \n",
    " \"watermelon\", \"honeydew\", \"kiwi\", \n",
    " \"kiwi\", \"kiwi\", \"mango\", \"blueberry\", \"blackberry\", \"gooseberry\", \"papaya\"]"
   ]
  },
  {
   "cell_type": "code",
   "execution_count": 83,
   "id": "661c20c0",
   "metadata": {},
   "outputs": [
    {
     "data": {
      "text/plain": [
       "17"
      ]
     },
     "execution_count": 83,
     "metadata": {},
     "output_type": "execute_result"
    }
   ],
   "source": [
    "#Determine the number of elements in fruits.\n",
    "fruits_series = pd.Series(fruits)\n",
    "fruits_series.size"
   ]
  },
  {
   "cell_type": "code",
   "execution_count": 22,
   "id": "e9b62783",
   "metadata": {},
   "outputs": [
    {
     "data": {
      "text/plain": [
       "RangeIndex(start=0, stop=17, step=1)"
      ]
     },
     "execution_count": 22,
     "metadata": {},
     "output_type": "execute_result"
    }
   ],
   "source": [
    "#Output only the index from fruits.\n",
    "fruits_series.index"
   ]
  },
  {
   "cell_type": "code",
   "execution_count": 23,
   "id": "d969f827",
   "metadata": {},
   "outputs": [
    {
     "data": {
      "text/plain": [
       "array(['kiwi', 'mango', 'strawberry', 'pineapple', 'gala apple',\n",
       "       'honeycrisp apple', 'tomato', 'watermelon', 'honeydew', 'kiwi',\n",
       "       'kiwi', 'kiwi', 'mango', 'blueberry', 'blackberry', 'gooseberry',\n",
       "       'papaya'], dtype=object)"
      ]
     },
     "execution_count": 23,
     "metadata": {},
     "output_type": "execute_result"
    }
   ],
   "source": [
    "#Output only the values from fruits.\n",
    "fruits_series.values"
   ]
  },
  {
   "cell_type": "code",
   "execution_count": 24,
   "id": "630e0ba5",
   "metadata": {},
   "outputs": [
    {
     "data": {
      "text/plain": [
       "dtype('O')"
      ]
     },
     "execution_count": 24,
     "metadata": {},
     "output_type": "execute_result"
    }
   ],
   "source": [
    "#Confirm the data type of the values in fruits.\n",
    "fruits_series.dtype"
   ]
  },
  {
   "cell_type": "code",
   "execution_count": 25,
   "id": "7b6c247d",
   "metadata": {},
   "outputs": [
    {
     "name": "stdout",
     "output_type": "stream",
     "text": [
      "0          kiwi\n",
      "1         mango\n",
      "2    strawberry\n",
      "3     pineapple\n",
      "4    gala apple\n",
      "dtype: object\n",
      "14    blackberry\n",
      "15    gooseberry\n",
      "16        papaya\n",
      "dtype: object\n",
      "15    gooseberry\n",
      "4     gala apple\n",
      "dtype: object\n"
     ]
    }
   ],
   "source": [
    "#Output only the first five values from fruits. Output the last three values. \n",
    "#Output two random values from fruits.\n",
    "print(fruits_series.head())\n",
    "print(fruits_series.tail(3))\n",
    "print(fruits_series.sample(2))"
   ]
  },
  {
   "cell_type": "code",
   "execution_count": 26,
   "id": "e6d8aa7b",
   "metadata": {},
   "outputs": [
    {
     "data": {
      "text/plain": [
       "count       17\n",
       "unique      13\n",
       "top       kiwi\n",
       "freq         4\n",
       "dtype: object"
      ]
     },
     "execution_count": 26,
     "metadata": {},
     "output_type": "execute_result"
    }
   ],
   "source": [
    "#Run the .describe() on fruits to see what information it returns when called on a Series with string values.\n",
    "fruits_series.describe()"
   ]
  },
  {
   "cell_type": "code",
   "execution_count": 27,
   "id": "0ff6fa04",
   "metadata": {},
   "outputs": [
    {
     "data": {
      "text/plain": [
       "['kiwi',\n",
       " 'mango',\n",
       " 'strawberry',\n",
       " 'pineapple',\n",
       " 'gala apple',\n",
       " 'honeycrisp apple',\n",
       " 'tomato',\n",
       " 'watermelon',\n",
       " 'honeydew',\n",
       " 'blueberry',\n",
       " 'blackberry',\n",
       " 'gooseberry',\n",
       " 'papaya']"
      ]
     },
     "execution_count": 27,
     "metadata": {},
     "output_type": "execute_result"
    }
   ],
   "source": [
    "#Run the code necessary to produce only the unique string values from fruits.\n",
    "list(pd.unique(fruits_series))"
   ]
  },
  {
   "cell_type": "code",
   "execution_count": 28,
   "id": "58f242f7",
   "metadata": {},
   "outputs": [
    {
     "data": {
      "text/plain": [
       "kiwi                4\n",
       "mango               2\n",
       "strawberry          1\n",
       "pineapple           1\n",
       "gala apple          1\n",
       "honeycrisp apple    1\n",
       "tomato              1\n",
       "watermelon          1\n",
       "honeydew            1\n",
       "blueberry           1\n",
       "blackberry          1\n",
       "gooseberry          1\n",
       "papaya              1\n",
       "dtype: int64"
      ]
     },
     "execution_count": 28,
     "metadata": {},
     "output_type": "execute_result"
    }
   ],
   "source": [
    "#Determine how many times each unique string value occurs in fruits.\n",
    "fruits_series.value_counts()"
   ]
  },
  {
   "cell_type": "code",
   "execution_count": 29,
   "id": "6cd14875",
   "metadata": {},
   "outputs": [
    {
     "data": {
      "text/plain": [
       "'kiwi'"
      ]
     },
     "execution_count": 29,
     "metadata": {},
     "output_type": "execute_result"
    }
   ],
   "source": [
    "#Determine the string value that occurs most frequently in fruits.\n",
    "fruits_series.describe().loc['top']\n",
    "#fruits_series.value_counts().idxmax()\n",
    "#fruits_series.mode()"
   ]
  },
  {
   "cell_type": "code",
   "execution_count": 30,
   "id": "77433ded",
   "metadata": {},
   "outputs": [
    {
     "data": {
      "text/plain": [
       "strawberry          1\n",
       "pineapple           1\n",
       "gala apple          1\n",
       "honeycrisp apple    1\n",
       "tomato              1\n",
       "watermelon          1\n",
       "honeydew            1\n",
       "blueberry           1\n",
       "blackberry          1\n",
       "gooseberry          1\n",
       "papaya              1\n",
       "dtype: int64"
      ]
     },
     "execution_count": 30,
     "metadata": {},
     "output_type": "execute_result"
    }
   ],
   "source": [
    "#Determine the string value that occurs least frequently in fruits.\n",
    "fruits_series.value_counts().nsmallest(n = 1, keep = 'all')"
   ]
  },
  {
   "cell_type": "code",
   "execution_count": 31,
   "id": "939fe0e7",
   "metadata": {},
   "outputs": [
    {
     "data": {
      "text/plain": [
       "0                 KIWI\n",
       "1                MANGO\n",
       "2           STRAWBERRY\n",
       "3            PINEAPPLE\n",
       "4           GALA APPLE\n",
       "5     HONEYCRISP APPLE\n",
       "6               TOMATO\n",
       "7           WATERMELON\n",
       "8             HONEYDEW\n",
       "9                 KIWI\n",
       "10                KIWI\n",
       "11                KIWI\n",
       "12               MANGO\n",
       "13           BLUEBERRY\n",
       "14          BLACKBERRY\n",
       "15          GOOSEBERRY\n",
       "16              PAPAYA\n",
       "dtype: object"
      ]
     },
     "execution_count": 31,
     "metadata": {},
     "output_type": "execute_result"
    }
   ],
   "source": [
    "#Capitalize all the string values in fruits.\n",
    "fruits_series.str.upper()"
   ]
  },
  {
   "cell_type": "code",
   "execution_count": 85,
   "id": "40dad3ca",
   "metadata": {},
   "outputs": [
    {
     "data": {
      "text/plain": [
       "kiwi                0\n",
       "mango               1\n",
       "strawberry          1\n",
       "pineapple           1\n",
       "gala apple          3\n",
       "honeycrisp apple    1\n",
       "tomato              1\n",
       "watermelon          1\n",
       "honeydew            0\n",
       "kiwi                0\n",
       "kiwi                0\n",
       "kiwi                0\n",
       "mango               1\n",
       "blueberry           0\n",
       "blackberry          1\n",
       "gooseberry          0\n",
       "papaya              3\n",
       "dtype: int64"
      ]
     },
     "execution_count": 85,
     "metadata": {},
     "output_type": "execute_result"
    }
   ],
   "source": [
    "#Count the letter \"a\" in all the string values (use string vectorization).\n",
    "\n",
    "fruits_a = fruits_series.str.count('a')#.reset_index(name = list(fruits))\n",
    "\n",
    "fruits_a.index = list(fruits_series)\n",
    "fruits_a"
   ]
  },
  {
   "cell_type": "code",
   "execution_count": 87,
   "id": "218d2e4b",
   "metadata": {},
   "outputs": [
    {
     "data": {
      "text/plain": [
       "kiwi                2\n",
       "mango               2\n",
       "strawberry          2\n",
       "pineapple           4\n",
       "gala apple          4\n",
       "honeycrisp apple    5\n",
       "tomato              3\n",
       "watermelon          4\n",
       "honeydew            3\n",
       "kiwi                2\n",
       "kiwi                2\n",
       "kiwi                2\n",
       "mango               2\n",
       "blueberry           3\n",
       "blackberry          2\n",
       "gooseberry          4\n",
       "papaya              3\n",
       "dtype: int64"
      ]
     },
     "execution_count": 87,
     "metadata": {},
     "output_type": "execute_result"
    }
   ],
   "source": [
    "#Output the number of vowels in each and every string value.\n",
    "\n",
    "#num_vow = fruits_series.str.count('a') + fruits_series.str.count('e') + fruits_series.str.count('i') + fruits_series.str.count('o') + fruits_series.str.count('u')\n",
    "#num_vow\n",
    "\n",
    "fa = fruits_series.str.count(r'[aeiou]')\n",
    "fa.index = list(fruits_series)\n",
    "fa"
   ]
  },
  {
   "cell_type": "code",
   "execution_count": 94,
   "id": "eaa1ccbd",
   "metadata": {},
   "outputs": [
    {
     "data": {
      "text/plain": [
       "16"
      ]
     },
     "execution_count": 94,
     "metadata": {},
     "output_type": "execute_result"
    }
   ],
   "source": [
    "#Write the code to get the longest string value from fruits.\n",
    "fruit_lengths = fruits_series.str.len().max()\n",
    "\n",
    "fruit_lengths"
   ]
  },
  {
   "cell_type": "code",
   "execution_count": 96,
   "id": "a86d5356",
   "metadata": {},
   "outputs": [
    {
     "data": {
      "text/plain": [
       "1                mango\n",
       "2           strawberry\n",
       "3            pineapple\n",
       "4           gala apple\n",
       "5     honeycrisp apple\n",
       "6               tomato\n",
       "7           watermelon\n",
       "8             honeydew\n",
       "12               mango\n",
       "13           blueberry\n",
       "14          blackberry\n",
       "15          gooseberry\n",
       "16              papaya\n",
       "dtype: object"
      ]
     },
     "execution_count": 96,
     "metadata": {},
     "output_type": "execute_result"
    }
   ],
   "source": [
    "#Write the code to get the string values with 5 or more letters in the name.\n",
    "\n",
    "#for fruit in fruits_series:\n",
    "    #if len(fruit) >= 5:\n",
    "        #print(fruit)\n",
    "        \n",
    "fruits_series[fruits_series.str.len() >= 5]"
   ]
  },
  {
   "cell_type": "code",
   "execution_count": 95,
   "id": "fe7a6e2a",
   "metadata": {},
   "outputs": [
    {
     "data": {
      "text/plain": [
       "6         tomato\n",
       "15    gooseberry\n",
       "dtype: object"
      ]
     },
     "execution_count": 95,
     "metadata": {},
     "output_type": "execute_result"
    }
   ],
   "source": [
    "#Find the fruit(s) containing the letter \"o\" two or more times.\n",
    "fruits_series[fruits_series.str.count('o') > 1]"
   ]
  },
  {
   "cell_type": "code",
   "execution_count": 97,
   "id": "89bdfcee",
   "metadata": {},
   "outputs": [
    {
     "data": {
      "text/plain": [
       "2     strawberry\n",
       "13     blueberry\n",
       "14    blackberry\n",
       "15    gooseberry\n",
       "dtype: object"
      ]
     },
     "execution_count": 97,
     "metadata": {},
     "output_type": "execute_result"
    }
   ],
   "source": [
    "#Write the code to get only the string values containing the substring \"berry\".\n",
    "fruits_series[fruits_series.str.contains('berry')]"
   ]
  },
  {
   "cell_type": "code",
   "execution_count": 98,
   "id": "496cc6e3",
   "metadata": {},
   "outputs": [
    {
     "data": {
      "text/plain": [
       "3           pineapple\n",
       "4          gala apple\n",
       "5    honeycrisp apple\n",
       "dtype: object"
      ]
     },
     "execution_count": 98,
     "metadata": {},
     "output_type": "execute_result"
    }
   ],
   "source": [
    "#Write the code to get only the string values containing the substring \"apple\".\n",
    "fruits_series[fruits_series.str.contains('apple')]"
   ]
  },
  {
   "cell_type": "code",
   "execution_count": 99,
   "id": "04661938",
   "metadata": {},
   "outputs": [
    {
     "name": "stdout",
     "output_type": "stream",
     "text": [
      "5    5\n",
      "dtype: int64\n"
     ]
    },
    {
     "data": {
      "text/plain": [
       "0                 kiwi\n",
       "1                mango\n",
       "2           strawberry\n",
       "3            pineapple\n",
       "4           gala apple\n",
       "5     honeycrisp apple\n",
       "6               tomato\n",
       "7           watermelon\n",
       "8             honeydew\n",
       "9                 kiwi\n",
       "10                kiwi\n",
       "11                kiwi\n",
       "12               mango\n",
       "13           blueberry\n",
       "14          blackberry\n",
       "15          gooseberry\n",
       "16              papaya\n",
       "dtype: object"
      ]
     },
     "execution_count": 99,
     "metadata": {},
     "output_type": "execute_result"
    }
   ],
   "source": [
    "#Which string value contains the most vowels?\n",
    "print(num_vow.nlargest(n = 1, keep = 'first'))\n",
    "fruits_series\n",
    "\n"
   ]
  },
  {
   "cell_type": "code",
   "execution_count": 54,
   "id": "60fcee38",
   "metadata": {},
   "outputs": [],
   "source": [
    "let_series = pd.Series(list('hnvidduckkqxwymbimkccexbkmqygkxoyndmcxnwqarhyffsjpsrabtjzsypmzadfavyrnndndvswreauxovncxtwzpwejilzjrmmbbgbyxvjtewqthafnbkqplarokkyydtubbmnexoypulzwfhqvckdpqtpoppzqrmcvhhpwgjwupgzhiofohawytlsiyecuproguy'))"
   ]
  },
  {
   "cell_type": "code",
   "execution_count": 56,
   "id": "dee1fc6b",
   "metadata": {},
   "outputs": [
    {
     "data": {
      "text/plain": [
       "0      h\n",
       "1      n\n",
       "2      v\n",
       "3      i\n",
       "4      d\n",
       "      ..\n",
       "195    r\n",
       "196    o\n",
       "197    g\n",
       "198    u\n",
       "199    y\n",
       "Length: 200, dtype: object"
      ]
     },
     "execution_count": 56,
     "metadata": {},
     "output_type": "execute_result"
    }
   ],
   "source": [
    "let_series"
   ]
  },
  {
   "cell_type": "code",
   "execution_count": 100,
   "id": "62cfb357",
   "metadata": {},
   "outputs": [
    {
     "data": {
      "text/plain": [
       "y    13\n",
       "dtype: int64"
      ]
     },
     "execution_count": 100,
     "metadata": {},
     "output_type": "execute_result"
    }
   ],
   "source": [
    "#Which letter occurs the most frequently in the letters Series?\n",
    "let_series.value_counts().head(1)"
   ]
  },
  {
   "cell_type": "code",
   "execution_count": 101,
   "id": "6a4b7f05",
   "metadata": {},
   "outputs": [
    {
     "data": {
      "text/plain": [
       "l    4\n",
       "dtype: int64"
      ]
     },
     "execution_count": 101,
     "metadata": {},
     "output_type": "execute_result"
    }
   ],
   "source": [
    "#Which letter occurs the Least frequently?\n",
    "let_series.value_counts().tail(1)"
   ]
  },
  {
   "cell_type": "code",
   "execution_count": 103,
   "id": "f6983c3a",
   "metadata": {},
   "outputs": [
    {
     "data": {
      "text/plain": [
       "34"
      ]
     },
     "execution_count": 103,
     "metadata": {},
     "output_type": "execute_result"
    }
   ],
   "source": [
    "#How many vowels are in the Series?\n",
    "\n",
    "#let_series.str.count('[aeiou]').sum()\n",
    "let_series.isin(list('aeiou')).sum()"
   ]
  },
  {
   "cell_type": "code",
   "execution_count": 105,
   "id": "a248bced",
   "metadata": {},
   "outputs": [
    {
     "data": {
      "text/plain": [
       "166"
      ]
     },
     "execution_count": 105,
     "metadata": {},
     "output_type": "execute_result"
    }
   ],
   "source": [
    "#How many consonants are in the Series?\n",
    "let_series.str.count('[^aeiou]').sum()"
   ]
  },
  {
   "cell_type": "code",
   "execution_count": 107,
   "id": "d448e567",
   "metadata": {},
   "outputs": [
    {
     "data": {
      "text/plain": [
       "0      H\n",
       "1      N\n",
       "2      V\n",
       "3      I\n",
       "4      D\n",
       "      ..\n",
       "195    R\n",
       "196    O\n",
       "197    G\n",
       "198    U\n",
       "199    Y\n",
       "Length: 200, dtype: object"
      ]
     },
     "execution_count": 107,
     "metadata": {},
     "output_type": "execute_result"
    }
   ],
   "source": [
    "#Create a Series that has all of the same letters but uppercased.\n",
    "let_series.str.upper()"
   ]
  },
  {
   "cell_type": "code",
   "execution_count": 112,
   "id": "380344b4",
   "metadata": {},
   "outputs": [
    {
     "data": {
      "text/plain": [
       "[Text(0.5, 0, 'Letter'),\n",
       " Text(0, 0.5, 'Frequency'),\n",
       " [<matplotlib.axis.YTick at 0x162df4fa0>,\n",
       "  <matplotlib.axis.YTick at 0x162df4f70>,\n",
       "  <matplotlib.axis.YTick at 0x161ab7bb0>,\n",
       "  <matplotlib.axis.YTick at 0x162ef82b0>,\n",
       "  <matplotlib.axis.YTick at 0x162ef8a00>,\n",
       "  <matplotlib.axis.YTick at 0x162efc190>,\n",
       "  <matplotlib.axis.YTick at 0x162efc8e0>,\n",
       "  <matplotlib.axis.YTick at 0x162efcb50>,\n",
       "  <matplotlib.axis.YTick at 0x162ef8cd0>,\n",
       "  <matplotlib.axis.YTick at 0x162edb2e0>,\n",
       "  <matplotlib.axis.YTick at 0x162f01610>,\n",
       "  <matplotlib.axis.YTick at 0x162f01d90>,\n",
       "  <matplotlib.axis.YTick at 0x162f0b6a0>,\n",
       "  <matplotlib.axis.YTick at 0x162f0bca0>,\n",
       "  <matplotlib.axis.YTick at 0x162f0b910>]]"
      ]
     },
     "execution_count": 112,
     "metadata": {},
     "output_type": "execute_result"
    },
    {
     "data": {
      "image/png": "[encoded data removed]",
      "text/plain": [
       "<Figure size 640x480 with 1 Axes>"
      ]
     },
     "metadata": {},
     "output_type": "display_data"
    }
   ],
   "source": [
    "#Create a bar plot of the frequencies of the 6 most commonly occuring letters.\n",
    "let_series.value_counts().head(6).plot.bar(title = 'Letters',\n",
    "                                          rot=0,\n",
    "                                          color = 'darkcyan',\n",
    "                                          ec = 'black',\n",
    "                                          width = .7\n",
    "                                          ).set(xlabel = 'Letter',\n",
    "                                              ylabel = 'Frequency',\n",
    "                                               yticks = (range(1, 16, 1))\n",
    "                                              )"
   ]
  },
  {
   "cell_type": "code",
   "execution_count": 113,
   "id": "2d5a9495",
   "metadata": {},
   "outputs": [],
   "source": [
    "numbers = pd.Series(['$796,459.41', '$278.60', '$482,571.67', '$4,503,915.98', '$2,121,418.3', '$1,260,813.3', '$87,231.01', '$1,509,175.45', '$4,138,548.00', '$2,848,913.80', '$594,715.39', '$4,789,988.17', '$4,513,644.5', '$3,191,059.97', '$1,758,712.24', '$4,338,283.54', '$4,738,303.38', '$2,791,759.67', '$769,681.94', '$452,650.23'])\n"
   ]
  },
  {
   "cell_type": "code",
   "execution_count": 117,
   "id": "10d97430",
   "metadata": {},
   "outputs": [
    {
     "name": "stdout",
     "output_type": "stream",
     "text": [
      "object\n"
     ]
    },
    {
     "data": {
      "text/plain": [
       "20"
      ]
     },
     "execution_count": 117,
     "metadata": {},
     "output_type": "execute_result"
    }
   ],
   "source": [
    "#What is the data type of the numbers Series?\n",
    "\n",
    "print(numbers.dtype)\n",
    "numbers.size\n"
   ]
  },
  {
   "cell_type": "code",
   "execution_count": 118,
   "id": "7b41824b",
   "metadata": {},
   "outputs": [
    {
     "data": {
      "text/plain": [
       "20"
      ]
     },
     "execution_count": 118,
     "metadata": {},
     "output_type": "execute_result"
    }
   ],
   "source": [
    "#How many elements are in the number Series?\n",
    "numbers.size\n"
   ]
  },
  {
   "cell_type": "code",
   "execution_count": 127,
   "id": "e6950b7e",
   "metadata": {},
   "outputs": [
    {
     "ename": "AttributeError",
     "evalue": "Can only use .str accessor with string values!",
     "output_type": "error",
     "traceback": [
      "\u001b[0;31m---------------------------------------------------------------------------\u001b[0m",
      "\u001b[0;31mAttributeError\u001b[0m                            Traceback (most recent call last)",
      "Input \u001b[0;32mIn [127]\u001b[0m, in \u001b[0;36m<cell line: 3>\u001b[0;34m()\u001b[0m\n\u001b[1;32m      1\u001b[0m \u001b[38;5;66;03m#Perform the necessary manipulations by accessing Series attributes \u001b[39;00m\n\u001b[1;32m      2\u001b[0m \u001b[38;5;66;03m#and methods to convert the numbers Series to a numeric data type.\u001b[39;00m\n\u001b[0;32m----> 3\u001b[0m numbers \u001b[38;5;241m=\u001b[39m \u001b[43mnumbers\u001b[49m\u001b[38;5;241;43m.\u001b[39;49m\u001b[43mstr\u001b[49m\u001b[38;5;241m.\u001b[39mreplace(\u001b[38;5;124m'\u001b[39m\u001b[38;5;124m$\u001b[39m\u001b[38;5;124m'\u001b[39m, \u001b[38;5;124m'\u001b[39m\u001b[38;5;124m'\u001b[39m)\u001b[38;5;241m.\u001b[39mstr\u001b[38;5;241m.\u001b[39mreplace(\u001b[38;5;124m'\u001b[39m\u001b[38;5;124m,\u001b[39m\u001b[38;5;124m'\u001b[39m, \u001b[38;5;124m'\u001b[39m\u001b[38;5;124m'\u001b[39m)\u001b[38;5;241m.\u001b[39mastype(\u001b[38;5;124m'\u001b[39m\u001b[38;5;124mfloat\u001b[39m\u001b[38;5;124m'\u001b[39m)\n",
      "File \u001b[0;32m/opt/homebrew/anaconda3/lib/python3.9/site-packages/pandas/core/generic.py:5575\u001b[0m, in \u001b[0;36mNDFrame.__getattr__\u001b[0;34m(self, name)\u001b[0m\n\u001b[1;32m   5568\u001b[0m \u001b[38;5;28;01mif\u001b[39;00m (\n\u001b[1;32m   5569\u001b[0m     name \u001b[38;5;129;01mnot\u001b[39;00m \u001b[38;5;129;01min\u001b[39;00m \u001b[38;5;28mself\u001b[39m\u001b[38;5;241m.\u001b[39m_internal_names_set\n\u001b[1;32m   5570\u001b[0m     \u001b[38;5;129;01mand\u001b[39;00m name \u001b[38;5;129;01mnot\u001b[39;00m \u001b[38;5;129;01min\u001b[39;00m \u001b[38;5;28mself\u001b[39m\u001b[38;5;241m.\u001b[39m_metadata\n\u001b[1;32m   5571\u001b[0m     \u001b[38;5;129;01mand\u001b[39;00m name \u001b[38;5;129;01mnot\u001b[39;00m \u001b[38;5;129;01min\u001b[39;00m \u001b[38;5;28mself\u001b[39m\u001b[38;5;241m.\u001b[39m_accessors\n\u001b[1;32m   5572\u001b[0m     \u001b[38;5;129;01mand\u001b[39;00m \u001b[38;5;28mself\u001b[39m\u001b[38;5;241m.\u001b[39m_info_axis\u001b[38;5;241m.\u001b[39m_can_hold_identifiers_and_holds_name(name)\n\u001b[1;32m   5573\u001b[0m ):\n\u001b[1;32m   5574\u001b[0m     \u001b[38;5;28;01mreturn\u001b[39;00m \u001b[38;5;28mself\u001b[39m[name]\n\u001b[0;32m-> 5575\u001b[0m \u001b[38;5;28;01mreturn\u001b[39;00m \u001b[38;5;28;43mobject\u001b[39;49m\u001b[38;5;241;43m.\u001b[39;49m\u001b[38;5;21;43m__getattribute__\u001b[39;49m\u001b[43m(\u001b[49m\u001b[38;5;28;43mself\u001b[39;49m\u001b[43m,\u001b[49m\u001b[43m \u001b[49m\u001b[43mname\u001b[49m\u001b[43m)\u001b[49m\n",
      "File \u001b[0;32m/opt/homebrew/anaconda3/lib/python3.9/site-packages/pandas/core/accessor.py:182\u001b[0m, in \u001b[0;36mCachedAccessor.__get__\u001b[0;34m(self, obj, cls)\u001b[0m\n\u001b[1;32m    179\u001b[0m \u001b[38;5;28;01mif\u001b[39;00m obj \u001b[38;5;129;01mis\u001b[39;00m \u001b[38;5;28;01mNone\u001b[39;00m:\n\u001b[1;32m    180\u001b[0m     \u001b[38;5;66;03m# we're accessing the attribute of the class, i.e., Dataset.geo\u001b[39;00m\n\u001b[1;32m    181\u001b[0m     \u001b[38;5;28;01mreturn\u001b[39;00m \u001b[38;5;28mself\u001b[39m\u001b[38;5;241m.\u001b[39m_accessor\n\u001b[0;32m--> 182\u001b[0m accessor_obj \u001b[38;5;241m=\u001b[39m \u001b[38;5;28;43mself\u001b[39;49m\u001b[38;5;241;43m.\u001b[39;49m\u001b[43m_accessor\u001b[49m\u001b[43m(\u001b[49m\u001b[43mobj\u001b[49m\u001b[43m)\u001b[49m\n\u001b[1;32m    183\u001b[0m \u001b[38;5;66;03m# Replace the property with the accessor object. Inspired by:\u001b[39;00m\n\u001b[1;32m    184\u001b[0m \u001b[38;5;66;03m# https://www.pydanny.com/cached-property.html\u001b[39;00m\n\u001b[1;32m    185\u001b[0m \u001b[38;5;66;03m# We need to use object.__setattr__ because we overwrite __setattr__ on\u001b[39;00m\n\u001b[1;32m    186\u001b[0m \u001b[38;5;66;03m# NDFrame\u001b[39;00m\n\u001b[1;32m    187\u001b[0m \u001b[38;5;28mobject\u001b[39m\u001b[38;5;241m.\u001b[39m\u001b[38;5;21m__setattr__\u001b[39m(obj, \u001b[38;5;28mself\u001b[39m\u001b[38;5;241m.\u001b[39m_name, accessor_obj)\n",
      "File \u001b[0;32m/opt/homebrew/anaconda3/lib/python3.9/site-packages/pandas/core/strings/accessor.py:177\u001b[0m, in \u001b[0;36mStringMethods.__init__\u001b[0;34m(self, data)\u001b[0m\n\u001b[1;32m    174\u001b[0m \u001b[38;5;28;01mdef\u001b[39;00m \u001b[38;5;21m__init__\u001b[39m(\u001b[38;5;28mself\u001b[39m, data):\n\u001b[1;32m    175\u001b[0m     \u001b[38;5;28;01mfrom\u001b[39;00m \u001b[38;5;21;01mpandas\u001b[39;00m\u001b[38;5;21;01m.\u001b[39;00m\u001b[38;5;21;01mcore\u001b[39;00m\u001b[38;5;21;01m.\u001b[39;00m\u001b[38;5;21;01marrays\u001b[39;00m\u001b[38;5;21;01m.\u001b[39;00m\u001b[38;5;21;01mstring_\u001b[39;00m \u001b[38;5;28;01mimport\u001b[39;00m StringDtype\n\u001b[0;32m--> 177\u001b[0m     \u001b[38;5;28mself\u001b[39m\u001b[38;5;241m.\u001b[39m_inferred_dtype \u001b[38;5;241m=\u001b[39m \u001b[38;5;28;43mself\u001b[39;49m\u001b[38;5;241;43m.\u001b[39;49m\u001b[43m_validate\u001b[49m\u001b[43m(\u001b[49m\u001b[43mdata\u001b[49m\u001b[43m)\u001b[49m\n\u001b[1;32m    178\u001b[0m     \u001b[38;5;28mself\u001b[39m\u001b[38;5;241m.\u001b[39m_is_categorical \u001b[38;5;241m=\u001b[39m is_categorical_dtype(data\u001b[38;5;241m.\u001b[39mdtype)\n\u001b[1;32m    179\u001b[0m     \u001b[38;5;28mself\u001b[39m\u001b[38;5;241m.\u001b[39m_is_string \u001b[38;5;241m=\u001b[39m \u001b[38;5;28misinstance\u001b[39m(data\u001b[38;5;241m.\u001b[39mdtype, StringDtype)\n",
      "File \u001b[0;32m/opt/homebrew/anaconda3/lib/python3.9/site-packages/pandas/core/strings/accessor.py:231\u001b[0m, in \u001b[0;36mStringMethods._validate\u001b[0;34m(data)\u001b[0m\n\u001b[1;32m    228\u001b[0m inferred_dtype \u001b[38;5;241m=\u001b[39m lib\u001b[38;5;241m.\u001b[39minfer_dtype(values, skipna\u001b[38;5;241m=\u001b[39m\u001b[38;5;28;01mTrue\u001b[39;00m)\n\u001b[1;32m    230\u001b[0m \u001b[38;5;28;01mif\u001b[39;00m inferred_dtype \u001b[38;5;129;01mnot\u001b[39;00m \u001b[38;5;129;01min\u001b[39;00m allowed_types:\n\u001b[0;32m--> 231\u001b[0m     \u001b[38;5;28;01mraise\u001b[39;00m \u001b[38;5;167;01mAttributeError\u001b[39;00m(\u001b[38;5;124m\"\u001b[39m\u001b[38;5;124mCan only use .str accessor with string values!\u001b[39m\u001b[38;5;124m\"\u001b[39m)\n\u001b[1;32m    232\u001b[0m \u001b[38;5;28;01mreturn\u001b[39;00m inferred_dtype\n",
      "\u001b[0;31mAttributeError\u001b[0m: Can only use .str accessor with string values!"
     ]
    }
   ],
   "source": [
    "#Perform the necessary manipulations by accessing Series attributes \n",
    "#and methods to convert the numbers Series to a numeric data type.\n",
    "numbers = numbers.str.replace('$', '').str.replace(',', '').astype('float')"
   ]
  },
  {
   "cell_type": "code",
   "execution_count": 128,
   "id": "04a95a30",
   "metadata": {},
   "outputs": [
    {
     "data": {
      "text/plain": [
       "4789988.17"
      ]
     },
     "execution_count": 128,
     "metadata": {},
     "output_type": "execute_result"
    }
   ],
   "source": [
    "#Run the code to discover the maximum value from the Series.\n",
    "numbers.max()"
   ]
  },
  {
   "cell_type": "code",
   "execution_count": 129,
   "id": "75940c51",
   "metadata": {},
   "outputs": [
    {
     "data": {
      "text/plain": [
       "278.6"
      ]
     },
     "execution_count": 129,
     "metadata": {},
     "output_type": "execute_result"
    }
   ],
   "source": [
    "#Run the code to discover the minimum value from the Series.\n",
    "numbers.min()"
   ]
  },
  {
   "cell_type": "code",
   "execution_count": 131,
   "id": "68861496",
   "metadata": {},
   "outputs": [
    {
     "data": {
      "text/plain": [
       "4789709.57"
      ]
     },
     "execution_count": 131,
     "metadata": {},
     "output_type": "execute_result"
    }
   ],
   "source": [
    "#What is the range of the values in the Series?\n",
    "numbers.max() - numbers.min()"
   ]
  },
  {
   "cell_type": "code",
   "execution_count": 133,
   "id": "6352c20c",
   "metadata": {},
   "outputs": [
    {
     "data": {
      "text/plain": [
       "Bin1    7\n",
       "Bin4    6\n",
       "Bin2    4\n",
       "Bin3    3\n",
       "dtype: int64"
      ]
     },
     "execution_count": 133,
     "metadata": {},
     "output_type": "execute_result"
    }
   ],
   "source": [
    "#Bin the data into 4 equally sized intervals or bins and output how many values fall into each bin.\n",
    "numbers_bins = pd.cut(numbers, 4, labels = ['Bin1', 'Bin2', 'Bin3', 'Bin4'])\n",
    "numbers_bins.value_counts()"
   ]
  },
  {
   "cell_type": "code",
   "execution_count": 137,
   "id": "23ca17bc",
   "metadata": {},
   "outputs": [
    {
     "data": {
      "text/plain": [
       "[Text(0.5, 0, 'Bin'),\n",
       " Text(0, 0.5, 'Total'),\n",
       " [<matplotlib.axis.YTick at 0x1631934f0>,\n",
       "  <matplotlib.axis.YTick at 0x1631939d0>,\n",
       "  <matplotlib.axis.YTick at 0x16314cdc0>,\n",
       "  <matplotlib.axis.YTick at 0x1631d0160>,\n",
       "  <matplotlib.axis.YTick at 0x1631d08b0>,\n",
       "  <matplotlib.axis.YTick at 0x1631d1040>,\n",
       "  <matplotlib.axis.YTick at 0x1631d0c40>,\n",
       "  <matplotlib.axis.YTick at 0x1631c9ee0>,\n",
       "  <matplotlib.axis.YTick at 0x1631c42b0>]]"
      ]
     },
     "execution_count": 137,
     "metadata": {},
     "output_type": "execute_result"
    },
    {
     "data": {
      "image/png": "[encoded data removed]",
      "text/plain": [
       "<Figure size 640x480 with 1 Axes>"
      ]
     },
     "metadata": {},
     "output_type": "display_data"
    }
   ],
   "source": [
    "#Plot the binned data in a meaningful way. Be sure to include a title and axis labels\n",
    "(\n",
    "    numbers_bins.value_counts().loc[['Bin1', 'Bin2', 'Bin3', 'Bin4']].\n",
    "    plot.bar(title = 'Bin Count',\n",
    "            rot=0,\n",
    "            color = 'Blue',\n",
    "            ec = 'Black',\n",
    "             width = .7). set(xlabel = 'Bin', ylabel = 'Total',\n",
    "                             yticks = range(1,10,1))\n",
    ")\n"
   ]
  },
  {
   "cell_type": "code",
   "execution_count": 139,
   "id": "d8e6f6d5",
   "metadata": {},
   "outputs": [],
   "source": [
    "scores = pd.Series([60, 86, 75, 62, 93, 71, 60, 83, 95, 78, 65, 72, 69, 81, 96, 80, 85, 92, 82, 78])\n"
   ]
  },
  {
   "cell_type": "code",
   "execution_count": 140,
   "id": "7ed43586",
   "metadata": {},
   "outputs": [
    {
     "data": {
      "text/plain": [
       "20"
      ]
     },
     "execution_count": 140,
     "metadata": {},
     "output_type": "execute_result"
    }
   ],
   "source": [
    "#How many elements are in the exam_scores Series?\n",
    "scores.size"
   ]
  },
  {
   "cell_type": "code",
   "execution_count": 144,
   "id": "843c1e38",
   "metadata": {},
   "outputs": [
    {
     "name": "stdout",
     "output_type": "stream",
     "text": [
      "96 60 78.15 79.0\n"
     ]
    }
   ],
   "source": [
    "#Run the code to discover the minimum, the maximum, the mean, and the median scores for the exam_scores Series.\n",
    "print(scores.max(),\n",
    "     scores.min(),\n",
    "     scores.mean(),\n",
    "     scores.median()\n",
    "     )"
   ]
  },
  {
   "cell_type": "code",
   "execution_count": null,
   "id": "326734f9",
   "metadata": {},
   "outputs": [],
   "source": [
    "#Plot the Series in a meaningful way and make sure your chart has a title and axis labels.\n",
    "(\n",
    "    scores.hist(\n",
    "    title = 'Distribution of Exam Scores')\n",
    "    .set(xlabel = 'something', ylabel = s)\n",
    ")"
   ]
  },
  {
   "cell_type": "code",
   "execution_count": 150,
   "id": "4492a1bc",
   "metadata": {},
   "outputs": [
    {
     "data": {
      "text/plain": [
       "0      64\n",
       "1      90\n",
       "2      79\n",
       "3      66\n",
       "4      97\n",
       "5      75\n",
       "6      64\n",
       "7      87\n",
       "8      99\n",
       "9      82\n",
       "10     69\n",
       "11     76\n",
       "12     73\n",
       "13     85\n",
       "14    100\n",
       "15     84\n",
       "16     89\n",
       "17     96\n",
       "18     86\n",
       "19     82\n",
       "dtype: int64"
      ]
     },
     "execution_count": 150,
     "metadata": {},
     "output_type": "execute_result"
    }
   ],
   "source": [
    "#Write the code necessary to implement a curve for your exam_grades \n",
    "#Series and save this as curved_grades. \n",
    "#Add the necessary points to the highest grade to make it 100, \n",
    "#and add the same number of points to every other score in the Series as well.\n",
    "\n",
    "curved_grades = scores + (100 - scores.max())\n",
    "curved_grades"
   ]
  },
  {
   "cell_type": "code",
   "execution_count": 155,
   "id": "2c7b6fbf",
   "metadata": {},
   "outputs": [
    {
     "data": {
      "text/plain": [
       "0     D\n",
       "1     A\n",
       "2     C\n",
       "3     D\n",
       "4     A\n",
       "5     C\n",
       "6     D\n",
       "7     B\n",
       "8     A\n",
       "9     B\n",
       "10    D\n",
       "11    C\n",
       "12    C\n",
       "13    B\n",
       "14    A\n",
       "15    B\n",
       "16    B\n",
       "17    A\n",
       "18    B\n",
       "19    B\n",
       "dtype: category\n",
       "Categories (5, object): ['F' < 'D' < 'C' < 'B' < 'A']"
      ]
     },
     "execution_count": 155,
     "metadata": {},
     "output_type": "execute_result"
    }
   ],
   "source": [
    "#Use a method to convert each of the numeric values in the curved_grades \n",
    "#Series into a categorical value of letter grades. \n",
    "#For example, 86 should be a 'B' and 95 should be an 'A'. Save this as a Series named letter_grades.\n",
    "bin_edges = [0, 59, 69, 79, 89, 101]\n",
    "bin_labels = ['F', 'D', 'C', 'B', 'A']\n",
    "\n",
    "letter_grades = pd.cut(curved_grades,\n",
    "                      bins = bin_edges,\n",
    "                      labels = bin_labels\n",
    "                      )\n",
    "letter_grades"
   ]
  },
  {
   "cell_type": "code",
   "execution_count": 156,
   "id": "4b851712",
   "metadata": {},
   "outputs": [
    {
     "data": {
      "text/plain": [
       "[Text(0.5, 0, 'Letter Grade'), Text(0, 0.5, 'Frequency')]"
      ]
     },
     "execution_count": 156,
     "metadata": {},
     "output_type": "execute_result"
    },
    {
     "data": {
      "image/png": "[encoded data removed]",
      "text/plain": [
       "<Figure size 640x480 with 1 Axes>"
      ]
     },
     "metadata": {},
     "output_type": "display_data"
    }
   ],
   "source": [
    "#Plot your new categorical letter_grades Series in a meaninful way and include a title and axis labels.\n",
    "(\n",
    "    letter_grades.value_counts().sort_index(ascending = False).\n",
    "    plot.bar(title = 'Curved Letter Grade Distribution').\n",
    "    set(xlabel = 'Letter Grade', ylabel = 'Frequency')\n",
    ")"
   ]
  },
  {
   "cell_type": "code",
   "execution_count": null,
   "id": "9a8dae79",
   "metadata": {},
   "outputs": [],
   "source": []
  }
 ],
 "metadata": {
  "kernelspec": {
   "display_name": "Python 3 (ipykernel)",
   "language": "python",
   "name": "python3"
  },
  "language_info": {
   "codemirror_mode": {
    "name": "ipython",
    "version": 3
   },
   "file_extension": ".py",
   "mimetype": "text/x-python",
   "name": "python",
   "nbconvert_exporter": "python",
   "pygments_lexer": "ipython3",
   "version": "3.9.13"
  }
 },
 "nbformat": 4,
 "nbformat_minor": 5
}
